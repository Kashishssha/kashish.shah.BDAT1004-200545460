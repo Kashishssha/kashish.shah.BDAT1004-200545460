{
 "cells": [
  {
   "cell_type": "markdown",
   "id": "84a524ac",
   "metadata": {},
   "source": [
    "# Question 1"
   ]
  },
  {
   "cell_type": "markdown",
   "id": "87f437f6",
   "metadata": {},
   "source": [
    "What data type is each of the following (evaluate where necessary)?\n",
    "\n",
    "5\n",
    "5.0\n",
    "5 > 1\n",
    "'5'\n",
    "5 * 2\n",
    "'5' * 2\n",
    "'5' + '2'\n",
    "5 / 2\n",
    "5 % 2\n",
    "{5, 2, 1}\n",
    "5 == 3\n",
    "Pi (the number)"
   ]
  },
  {
   "cell_type": "markdown",
   "id": "42445c22",
   "metadata": {},
   "source": [
    "*Ans for Question 1* \n",
    "\n",
    "5 = Integer \n",
    "5.0 = Float \n",
    "5 > 1 = Boolean \n",
    "'5' = String \n",
    "5 * 2 = Integer\n",
    "'5' * 2 = String\n",
    "'5' + '2' = String \n",
    "5 / 2 = Float\n",
    "5 % 2 = Integer\n",
    "{5, 2, 1} = Set\n",
    "5 == 3   = Boolean\n",
    "Pi (the number)  = Float   "
   ]
  },
  {
   "cell_type": "markdown",
   "id": "35a68143",
   "metadata": {},
   "source": [
    "# Question 2"
   ]
  },
  {
   "cell_type": "markdown",
   "id": "22bccce7",
   "metadata": {},
   "source": [
    "Write (and evaluate) python expressions that answer these questions:\n",
    "a. How many letters are there in 'Supercalifragilisticexpialidocious'?\n",
    "b. Does 'Supercalifragilisticexpialidocious' contain 'ice' as a substring?\n",
    "c. Which of the following words is the longest:\n",
    "Supercalifragilisticexpialidocious, Honorificabilitudinitatibus, or\n",
    "Bababadalgharaghtakamminarronnkonn?\n",
    "d. Which composer comes first in the dictionary: 'Berlioz', 'Borodin', 'Brian',\n",
    "'Bartok', 'Bellini', 'Buxtehude', 'Bernstein'. Which one comes last?"
   ]
  },
  {
   "cell_type": "markdown",
   "id": "4e455364",
   "metadata": {},
   "source": [
    "*Ans to question 2* "
   ]
  },
  {
   "cell_type": "code",
   "execution_count": 8,
   "id": "f9d4cc9e",
   "metadata": {
    "scrolled": true
   },
   "outputs": [
    {
     "name": "stdout",
     "output_type": "stream",
     "text": [
      "Number of letters: 34\n"
     ]
    }
   ],
   "source": [
    "s = 'Supercalifragilisticexpialidocious'\n",
    "t = len(s)\n",
    "print(f\"Number of letters: {t}\")\n"
   ]
  },
  {
   "cell_type": "code",
   "execution_count": 9,
   "id": "cf6d4397",
   "metadata": {},
   "outputs": [
    {
     "name": "stdout",
     "output_type": "stream",
     "text": [
      " Contains 'ice': False\n"
     ]
    }
   ],
   "source": [
    "a = 'Supercalifragilisticexpialidocious'\n",
    "b = 'ice'\n",
    "c = a in b\n",
    "print(f\" Contains 'ice': {c}\")\n"
   ]
  },
  {
   "cell_type": "code",
   "execution_count": 11,
   "id": "e4f7b5eb",
   "metadata": {},
   "outputs": [
    {
     "name": "stdout",
     "output_type": "stream",
     "text": [
      "Longest word: Supercalifragilisticexpialidocious\n"
     ]
    }
   ],
   "source": [
    "a = ['Supercalifragilisticexpialidocious', 'Honorificabilitudinitatibus', 'Bababadalgharaghtakamminarronnkonn']\n",
    "b = max(a, key=len)\n",
    "print(f\"Longest word: {b}\")"
   ]
  },
  {
   "cell_type": "code",
   "execution_count": 14,
   "id": "93d8173c",
   "metadata": {},
   "outputs": [
    {
     "name": "stdout",
     "output_type": "stream",
     "text": [
      "First : Bartok, Last : Buxtehude\n"
     ]
    }
   ],
   "source": [
    "a = ['Berlioz', 'Borodin', 'Brian', 'Bartok', 'Bellini', 'Buxtehude', 'Bernstein']\n",
    "b = min(a)\n",
    "c = max(a)\n",
    "print(f\"First : {b}, Last : {c}\")\n"
   ]
  },
  {
   "cell_type": "markdown",
   "id": "525f2ccc",
   "metadata": {},
   "source": [
    "# Question 3 "
   ]
  },
  {
   "cell_type": "markdown",
   "id": "b800e47d",
   "metadata": {},
   "source": [
    "Implement function triangleArea(a,b,c) that takes as input the lengths of the 3\n",
    "sides of a triangle and returns the area of the triangle. By Heron's formula, the area\n",
    "of a triangle with side lengths a, b, and c is\n",
    "s(s - a)(s -b)(s -c)\n",
    ", where\n",
    "s = (a+b+c)/2. "
   ]
  },
  {
   "cell_type": "code",
   "execution_count": 16,
   "id": "082d143c",
   "metadata": {},
   "outputs": [
    {
     "name": "stdout",
     "output_type": "stream",
     "text": [
      "Enter the length of side a: 2\n",
      "Enter the length of side b: 2\n",
      "Enter the length of side c: 2\n",
      "The area of the triangle is: 1.7320508075688772\n"
     ]
    }
   ],
   "source": [
    "def triangleArea():\n",
    "    #asking user to give any choice of their  input as a number \n",
    "    a = float(input(\"Enter the length of side a: \"))\n",
    "    b = float(input(\"Enter the length of side b: \"))\n",
    "    c = float(input(\"Enter the length of side c: \"))\n",
    "    \n",
    "    # variable s is semi perimter \n",
    "    s = (a + b + c) / 2\n",
    "    \n",
    "    #applying formula for area \n",
    "    area = (s * (s - a) * (s - b) * (s - c)) ** 0.5\n",
    "    \n",
    "    return area\n",
    "result = triangleArea()\n",
    "print(f\"The area of the triangle is: {result}\")\n"
   ]
  },
  {
   "cell_type": "markdown",
   "id": "df0e3b31",
   "metadata": {},
   "source": [
    "# Question 4"
   ]
  },
  {
   "cell_type": "markdown",
   "id": "c4c3feb7",
   "metadata": {},
   "source": [
    "Write a program in python to separate odd and even integers in separate arrays. Go\n",
    "to the editor\n",
    "Test Data :\n",
    "Input the number of elements to be stored in the array :5\n",
    "Input 5 elements in the array :\n",
    "element - 0 : 25\n",
    "element - 1 : 47\n",
    "element - 2 : 42\n",
    "element - 3 : 56\n",
    "element - 4 : 32"
   ]
  },
  {
   "cell_type": "markdown",
   "id": "f17d0b07",
   "metadata": {},
   "source": [
    "*Ans for question 4*"
   ]
  },
  {
   "cell_type": "code",
   "execution_count": 17,
   "id": "6df4fe3d",
   "metadata": {},
   "outputs": [
    {
     "name": "stdout",
     "output_type": "stream",
     "text": [
      "Enter the number of elements: 8\n",
      "Element - 0: 1\n",
      "Element - 1: 3\n",
      "Element - 2: 5\n",
      "Element - 3: 4\n",
      "Element - 4: 49\n",
      "Element - 5: 84\n",
      "Element - 6: 48\n",
      "Element - 7: 51\n",
      "Odd numbers: [1, 3, 5, 49, 51]\n",
      "Even numbers: [4, 84, 48]\n"
     ]
    }
   ],
   "source": [
    "# asking the number of elements from the user of their choice \n",
    "n = int(input(\"Enter the number of elements: \"))\n",
    "arr = []\n",
    "for i in range(n):\n",
    "    e = int(input(f\"Element - {i}: \"))\n",
    "    arr.append(e)\n",
    "\n",
    "odd_numbers = []\n",
    "even_numbers = []\n",
    "\n",
    "for num in arr:\n",
    "    if num % 2 != 0:\n",
    "        odd_numbers.append(num)\n",
    "    else:\n",
    "        even_numbers.append(num)\n",
    "\n",
    "print(\"Odd numbers:\", odd_numbers)\n",
    "print(\"Even numbers:\", even_numbers)\n"
   ]
  },
  {
   "cell_type": "markdown",
   "id": "fa206d46",
   "metadata": {},
   "source": [
    "# Question 5"
   ]
  },
  {
   "cell_type": "markdown",
   "id": "44e59ddd",
   "metadata": {},
   "source": [
    "a. Write a program in python to separate odd and even integers in separate arrays. Go\n",
    "to the editora. Write a function inside(x,y,x1,y1,x2,y2) that returns True or False\n",
    "depending on whether the point (x,y) lies in the rectangle with lower left\n",
    "corner (x1,y1) and upper right corner (x2,y2).\n",
    "\n",
    "\n",
    "\n",
    "b. Use function inside() from part a. to write an expression that tests whether\n",
    "the point (1,1) lies in both of the following rectangles: one with lower left\n",
    "corner (0.3, 0.5) and upper right corner (1.1, 0.7) and the other with lower\n",
    "left corner (0.5, 0.2) and upper right corner (1.1, 2). \n"
   ]
  },
  {
   "cell_type": "markdown",
   "id": "3a92e74a",
   "metadata": {},
   "source": [
    "*Ans for question 5*"
   ]
  },
  {
   "cell_type": "code",
   "execution_count": 22,
   "id": "eb4fd66e",
   "metadata": {},
   "outputs": [
    {
     "name": "stdout",
     "output_type": "stream",
     "text": [
      "9\n",
      "8\n",
      "2\n",
      "5\n",
      "6\n",
      "7\n",
      "are the point inside the rectangle? False\n"
     ]
    }
   ],
   "source": [
    "def inside(x, y, x1, y1, x2, y2):\n",
    "    return x1 <= x <= x2 and y1 <= y <= y2\n",
    "\n",
    "#taking input from the user\n",
    "x = float(input(\"\"))\n",
    "y = float(input(\"\"))\n",
    "x1 = float(input(\"\"))\n",
    "y1 = float(input(\"\"))\n",
    "x2 = float(input(\"\"))\n",
    "y2 = float(input(\"\"))\n",
    "\n",
    "result = inside(x, y, x1, y1, x2, y2)\n",
    "\n",
    "print(\"are the point inside the rectangle?\", result)\n"
   ]
  },
  {
   "cell_type": "code",
   "execution_count": 23,
   "id": "2da43e27",
   "metadata": {},
   "outputs": [
    {
     "name": "stdout",
     "output_type": "stream",
     "text": [
      "Is the point (1, 1) inside both rectangles? False\n"
     ]
    }
   ],
   "source": [
    "r1 = (0.3, 0.5, 1.1, 0.7)\n",
    "r2 = (0.5, 0.2, 1.1, 2)\n",
    "\n",
    "point_inside_r1 = inside(1, 1, *r1)\n",
    "point_inside_r2 = inside(1, 1, *r2)\n",
    "\n",
    "a = point_inside_r1 and point_inside_r2\n",
    "\n",
    "print(f\"Is the point (1, 1) inside both rectangles? {a}\")\n"
   ]
  },
  {
   "cell_type": "markdown",
   "id": "6d5fa4a4",
   "metadata": {},
   "source": [
    "# Question 6"
   ]
  },
  {
   "cell_type": "markdown",
   "id": "3e9e4db7",
   "metadata": {},
   "source": [
    "You can turn a word into pig-Latin using the following two rules (simplified):\n",
    "• If the word starts with a consonant, move that letter to the end and append\n",
    "'ay'. For example, 'happy' becomes 'appyhay' and 'pencil' becomes 'encilpay'.\n",
    "• If the word starts with a vowel, simply append 'way' to the end of the word.\n",
    "For example, 'enter' becomes 'enterway' and 'other' becomes 'otherway' . For\n",
    "our purposes, there are 5 vowels: a, e, i, o, u (so we count y as a consonant).\n",
    "Write a function pig() that takes a word (i.e., a string) as input and returns its pigLatin form. Your function should still work if the input word contains upper case\n",
    "characters. Your output should always be lower case however. "
   ]
  },
  {
   "cell_type": "markdown",
   "id": "c61c5295",
   "metadata": {},
   "source": [
    "*Ans for question 6*"
   ]
  },
  {
   "cell_type": "code",
   "execution_count": 24,
   "id": "a2ce1195",
   "metadata": {},
   "outputs": [
    {
     "name": "stdout",
     "output_type": "stream",
     "text": [
      "Enter a word: Happy\n",
      "The Pig Latin form of 'Happy' is: appyhay\n"
     ]
    }
   ],
   "source": [
    "def pig(word):\n",
    "    word = word.lower()\n",
    "\n",
    "    if word[0] in 'aeiou':\n",
    "        return word + 'way'\n",
    "    else:\n",
    "        return word[1:] + word[0] + 'ay'\n",
    "\n",
    "a = input(\"Enter a word: \")\n",
    "\n",
    "b = pig(a)\n",
    "print(f\"The Pig Latin form of '{a}' is: {b}\")\n"
   ]
  },
  {
   "cell_type": "markdown",
   "id": "17e83890",
   "metadata": {},
   "source": [
    "# Question 7"
   ]
  },
  {
   "cell_type": "markdown",
   "id": "c42ba370",
   "metadata": {},
   "source": [
    "File bloodtype1.txt records blood-types of patients (A, B, AB, O or OO) at a clinic.\n",
    "Write a function bldcount() that reads the file with name name and reports (i.e.,\n",
    "prints) how many patients there are in each bloodtype"
   ]
  },
  {
   "cell_type": "markdown",
   "id": "1d2f76f1",
   "metadata": {},
   "source": [
    "*Answer for question 7*"
   ]
  },
  {
   "cell_type": "code",
   "execution_count": 45,
   "id": "cfa111ba",
   "metadata": {},
   "outputs": [
    {
     "name": "stdout",
     "output_type": "stream",
     "text": [
      "There  are 15 patients  of  blood  type  A.\n",
      "There  are 1 patients  of  blood  type  B.\n",
      "There  are 15 patients  of  blood  type  O.\n",
      "There  are 0 patients  of  blood  type  OO.\n",
      "There  are 13 patients  of  blood  type  AB.\n"
     ]
    }
   ],
   "source": [
    "file = open(\"bloodtype1.txt\", \"r\")\n",
    "#initializing counts for each blood type \n",
    "A = 0\n",
    "B = 0\n",
    "O = 0\n",
    "OO = 0\n",
    "AB = 0\n",
    "\n",
    "for line in file:\n",
    "    #iterate through each word in the line \n",
    "    for word in line.split():\n",
    "        if word == \"A\":\n",
    "            A = 1 + A\n",
    "        elif word == \"B\":\n",
    "            B = 1 + B\n",
    "        elif word == \"O\":\n",
    "            O = 1 + O\n",
    "        elif word == \"OO\":\n",
    "            OO = 1 + OO\n",
    "        elif word == \"AB\":\n",
    "            AB = 1 + AB\n",
    "            \n",
    "#printing the results \n",
    "print('There  are '+ str(A) +' patients  of  blood  type  A.')\n",
    "print('There  are '+ str(B) +' patients  of  blood  type  B.')\n",
    "print('There  are '+ str(O) +' patients  of  blood  type  O.')\n",
    "print('There  are '+ str(OO) +' patients  of  blood  type  OO.')\n",
    "print('There  are '+ str(AB) +' patients  of  blood  type  AB.')"
   ]
  },
  {
   "cell_type": "markdown",
   "id": "070429e7",
   "metadata": {},
   "source": [
    "# Question 8 "
   ]
  },
  {
   "cell_type": "markdown",
   "id": "d5859c07",
   "metadata": {},
   "source": [
    "Write a function curconv() that takes as input:\n",
    "1. a currency represented using a string (e.g., 'JPY' for the Japanese Yen or\n",
    "'EUR' for the Euro)\n",
    "2. an amount\n",
    "and then converts and returns the amount in US dollars."
   ]
  },
  {
   "cell_type": "markdown",
   "id": "00ede384",
   "metadata": {},
   "source": [
    "*Ans for question 8*"
   ]
  },
  {
   "cell_type": "code",
   "execution_count": 61,
   "id": "1b9f5d16",
   "metadata": {},
   "outputs": [],
   "source": [
    "file = open(\"currencies.txt\", \"r\")\n",
    "def curconv(currency, amount):\n",
    "    USD = 0\n",
    "    for word in file:\n",
    "        if word.split()[0] == currency:\n",
    "            USD = amount * float(word.split()[1])\n",
    "            return USD"
   ]
  },
  {
   "cell_type": "code",
   "execution_count": 62,
   "id": "be8bcad4",
   "metadata": {},
   "outputs": [
    {
     "data": {
      "text/plain": [
       "129.3144625"
      ]
     },
     "execution_count": 62,
     "metadata": {},
     "output_type": "execute_result"
    }
   ],
   "source": [
    "curconv('AUD',125)"
   ]
  },
  {
   "cell_type": "code",
   "execution_count": 63,
   "id": "a64ee363",
   "metadata": {},
   "outputs": [
    {
     "data": {
      "text/plain": [
       "2.7534665"
      ]
     },
     "execution_count": 63,
     "metadata": {},
     "output_type": "execute_result"
    }
   ],
   "source": [
    "curconv('INR',155)"
   ]
  },
  {
   "cell_type": "code",
   "execution_count": 64,
   "id": "a40823c9",
   "metadata": {},
   "outputs": [
    {
     "data": {
      "text/plain": [
       "41.0880435"
      ]
     },
     "execution_count": 64,
     "metadata": {},
     "output_type": "execute_result"
    }
   ],
   "source": [
    "curconv('NOK',245)"
   ]
  },
  {
   "cell_type": "markdown",
   "id": "bf45313c",
   "metadata": {},
   "source": [
    "# Question 9 "
   ]
  },
  {
   "cell_type": "markdown",
   "id": "15e4fd5e",
   "metadata": {},
   "source": [
    "Each of the following will cause an exception (an error). Identify what type of\n",
    "exception each will cause.\n",
    "Trying to add incompatible variables, as in\n",
    "adding 6 + ‘a’\n",
    "Referring to the 12th item of a list that has only 10\n",
    "items\n",
    "Using a value that is out of range for a function’s\n",
    "input, such as calling math.sqrt(-1.0)\n",
    "Using an undeclared variable, such as print(x)\n",
    "when x has not been defined\n",
    "Trying to open a file that does not exist, such as\n",
    "mistyping the file name or looking in the wrong\n",
    "directory. "
   ]
  },
  {
   "cell_type": "markdown",
   "id": "74e569c7",
   "metadata": {},
   "source": [
    "*Ans to question 9*"
   ]
  },
  {
   "cell_type": "markdown",
   "id": "caab0407",
   "metadata": {},
   "source": [
    "Trying to add incompatible variables, as in\n",
    "adding 6 + 'a' = TypeError"
   ]
  },
  {
   "cell_type": "code",
   "execution_count": 71,
   "id": "2af108d4",
   "metadata": {},
   "outputs": [
    {
     "ename": "TypeError",
     "evalue": "unsupported operand type(s) for +: 'int' and 'str'",
     "output_type": "error",
     "traceback": [
      "\u001b[1;31m---------------------------------------------------------------------------\u001b[0m",
      "\u001b[1;31mTypeError\u001b[0m                                 Traceback (most recent call last)",
      "Cell \u001b[1;32mIn[71], line 1\u001b[0m\n\u001b[1;32m----> 1\u001b[0m \u001b[38;5;241;43m6\u001b[39;49m\u001b[43m \u001b[49m\u001b[38;5;241;43m+\u001b[39;49m\u001b[43m \u001b[49m\u001b[38;5;124;43m\"\u001b[39;49m\u001b[38;5;124;43ma\u001b[39;49m\u001b[38;5;124;43m\"\u001b[39;49m\n",
      "\u001b[1;31mTypeError\u001b[0m: unsupported operand type(s) for +: 'int' and 'str'"
     ]
    }
   ],
   "source": [
    "6 + \"a\""
   ]
  },
  {
   "cell_type": "markdown",
   "id": "85219243",
   "metadata": {},
   "source": [
    "Referring to the 12th item of a list that has only 10\n",
    "items = TypeError                                 \n"
   ]
  },
  {
   "cell_type": "code",
   "execution_count": 73,
   "id": "52793663",
   "metadata": {},
   "outputs": [
    {
     "ename": "TypeError",
     "evalue": "'list' object is not callable",
     "output_type": "error",
     "traceback": [
      "\u001b[1;31m---------------------------------------------------------------------------\u001b[0m",
      "\u001b[1;31mTypeError\u001b[0m                                 Traceback (most recent call last)",
      "Cell \u001b[1;32mIn[73], line 2\u001b[0m\n\u001b[0;32m      1\u001b[0m \u001b[38;5;28mlist\u001b[39m \u001b[38;5;241m=\u001b[39m [\u001b[38;5;241m0\u001b[39m,\u001b[38;5;241m1\u001b[39m,\u001b[38;5;241m2\u001b[39m,\u001b[38;5;241m3\u001b[39m,\u001b[38;5;241m4\u001b[39m,\u001b[38;5;241m5\u001b[39m,\u001b[38;5;241m6\u001b[39m,\u001b[38;5;241m7\u001b[39m,\u001b[38;5;241m8\u001b[39m,\u001b[38;5;241m9\u001b[39m]\n\u001b[1;32m----> 2\u001b[0m \u001b[38;5;28mprint\u001b[39m(\u001b[38;5;28;43mlist\u001b[39;49m\u001b[43m(\u001b[49m\u001b[38;5;241;43m12\u001b[39;49m\u001b[43m)\u001b[49m)\n",
      "\u001b[1;31mTypeError\u001b[0m: 'list' object is not callable"
     ]
    }
   ],
   "source": [
    "list = [0,1,2,3,4,5,6,7,8,9]\n",
    "print(list(12))"
   ]
  },
  {
   "cell_type": "markdown",
   "id": "e4030513",
   "metadata": {},
   "source": [
    "Using a value that is out of range for a function’s\n",
    "input, such as calling math.sqrt(-1.0) = NameError"
   ]
  },
  {
   "cell_type": "code",
   "execution_count": 75,
   "id": "3978f1f3",
   "metadata": {},
   "outputs": [
    {
     "ename": "NameError",
     "evalue": "name 'math' is not defined",
     "output_type": "error",
     "traceback": [
      "\u001b[1;31m---------------------------------------------------------------------------\u001b[0m",
      "\u001b[1;31mNameError\u001b[0m                                 Traceback (most recent call last)",
      "Cell \u001b[1;32mIn[75], line 1\u001b[0m\n\u001b[1;32m----> 1\u001b[0m \u001b[43mmath\u001b[49m\u001b[38;5;241m.\u001b[39msqrt(\u001b[38;5;241m-\u001b[39m\u001b[38;5;241m1\u001b[39m,\u001b[38;5;241m0\u001b[39m)\n",
      "\u001b[1;31mNameError\u001b[0m: name 'math' is not defined"
     ]
    }
   ],
   "source": [
    "math.sqrt(-1,0)"
   ]
  },
  {
   "cell_type": "markdown",
   "id": "525e4ef2",
   "metadata": {},
   "source": [
    "Using an undeclared variable, such as print(x)\n",
    "when x has not been defined = NameError"
   ]
  },
  {
   "cell_type": "code",
   "execution_count": 77,
   "id": "ec4cc5c8",
   "metadata": {},
   "outputs": [
    {
     "ename": "NameError",
     "evalue": "name 'z' is not defined",
     "output_type": "error",
     "traceback": [
      "\u001b[1;31m---------------------------------------------------------------------------\u001b[0m",
      "\u001b[1;31mNameError\u001b[0m                                 Traceback (most recent call last)",
      "Cell \u001b[1;32mIn[77], line 1\u001b[0m\n\u001b[1;32m----> 1\u001b[0m \u001b[38;5;28mprint\u001b[39m(\u001b[43mz\u001b[49m)\n",
      "\u001b[1;31mNameError\u001b[0m: name 'z' is not defined"
     ]
    }
   ],
   "source": [
    "print(z)\n"
   ]
  },
  {
   "cell_type": "markdown",
   "id": "198dfd93",
   "metadata": {},
   "source": [
    "Trying to open a file that does not exist, such as\n",
    "mistyping the file name or looking in the wrong\n",
    "directory. =  FileNotFoundError"
   ]
  },
  {
   "cell_type": "code",
   "execution_count": 78,
   "id": "599518d6",
   "metadata": {},
   "outputs": [
    {
     "ename": "FileNotFoundError",
     "evalue": "[Errno 2] No such file or directory: 'currency.txt'",
     "output_type": "error",
     "traceback": [
      "\u001b[1;31m---------------------------------------------------------------------------\u001b[0m",
      "\u001b[1;31mFileNotFoundError\u001b[0m                         Traceback (most recent call last)",
      "Cell \u001b[1;32mIn[78], line 1\u001b[0m\n\u001b[1;32m----> 1\u001b[0m file\u001b[38;5;241m=\u001b[39m \u001b[38;5;28;43mopen\u001b[39;49m\u001b[43m(\u001b[49m\u001b[38;5;124;43m'\u001b[39;49m\u001b[38;5;124;43mcurrency.txt\u001b[39;49m\u001b[38;5;124;43m'\u001b[39;49m\u001b[43m,\u001b[49m\u001b[43m \u001b[49m\u001b[38;5;124;43m'\u001b[39;49m\u001b[38;5;124;43mr\u001b[39;49m\u001b[38;5;124;43m'\u001b[39;49m\u001b[43m)\u001b[49m\n",
      "File \u001b[1;32m~\\AppData\\Local\\Programs\\Python\\Python311\\Lib\\site-packages\\IPython\\core\\interactiveshell.py:282\u001b[0m, in \u001b[0;36m_modified_open\u001b[1;34m(file, *args, **kwargs)\u001b[0m\n\u001b[0;32m    275\u001b[0m \u001b[38;5;28;01mif\u001b[39;00m file \u001b[38;5;129;01min\u001b[39;00m {\u001b[38;5;241m0\u001b[39m, \u001b[38;5;241m1\u001b[39m, \u001b[38;5;241m2\u001b[39m}:\n\u001b[0;32m    276\u001b[0m     \u001b[38;5;28;01mraise\u001b[39;00m \u001b[38;5;167;01mValueError\u001b[39;00m(\n\u001b[0;32m    277\u001b[0m         \u001b[38;5;124mf\u001b[39m\u001b[38;5;124m\"\u001b[39m\u001b[38;5;124mIPython won\u001b[39m\u001b[38;5;124m'\u001b[39m\u001b[38;5;124mt let you open fd=\u001b[39m\u001b[38;5;132;01m{\u001b[39;00mfile\u001b[38;5;132;01m}\u001b[39;00m\u001b[38;5;124m by default \u001b[39m\u001b[38;5;124m\"\u001b[39m\n\u001b[0;32m    278\u001b[0m         \u001b[38;5;124m\"\u001b[39m\u001b[38;5;124mas it is likely to crash IPython. If you know what you are doing, \u001b[39m\u001b[38;5;124m\"\u001b[39m\n\u001b[0;32m    279\u001b[0m         \u001b[38;5;124m\"\u001b[39m\u001b[38;5;124myou can use builtins\u001b[39m\u001b[38;5;124m'\u001b[39m\u001b[38;5;124m open.\u001b[39m\u001b[38;5;124m\"\u001b[39m\n\u001b[0;32m    280\u001b[0m     )\n\u001b[1;32m--> 282\u001b[0m \u001b[38;5;28;01mreturn\u001b[39;00m \u001b[43mio_open\u001b[49m\u001b[43m(\u001b[49m\u001b[43mfile\u001b[49m\u001b[43m,\u001b[49m\u001b[43m \u001b[49m\u001b[38;5;241;43m*\u001b[39;49m\u001b[43margs\u001b[49m\u001b[43m,\u001b[49m\u001b[43m \u001b[49m\u001b[38;5;241;43m*\u001b[39;49m\u001b[38;5;241;43m*\u001b[39;49m\u001b[43mkwargs\u001b[49m\u001b[43m)\u001b[49m\n",
      "\u001b[1;31mFileNotFoundError\u001b[0m: [Errno 2] No such file or directory: 'currency.txt'"
     ]
    }
   ],
   "source": [
    "    file= open('currency.txt', 'r')\n"
   ]
  },
  {
   "cell_type": "markdown",
   "id": "1b01c01f",
   "metadata": {},
   "source": [
    "# Question 10 \n"
   ]
  },
  {
   "cell_type": "markdown",
   "id": "51d09736",
   "metadata": {},
   "source": [
    "Encryption is the process of hiding the meaning of a text by substituting letters in the\n",
    "message with other letters, according to some system. If the process is successful, no\n",
    "one but the intended recipient can understand the encrypted message. Cryptanalysis\n",
    "refers to attempts to undo the encryption, even if some details of the encryption are\n",
    "unknown (for example, if an encrypted message has been intercepted). The first step\n",
    "of cryptanalysis is often to build up a table of letter frequencies in the encrypted text.\n",
    "Assume that the string letters is already defined as\n",
    "'abcdefghijklmnopqrstuvwxyz'. Write a function called frequencies()\n",
    "that takes a string as its only parameter, and returns a list of integers, showing the\n",
    "number of times each character appears in the text. Your function may ignore any\n",
    "characters that are not in letters. "
   ]
  },
  {
   "cell_type": "markdown",
   "id": "86e6402a",
   "metadata": {},
   "source": [
    "*Ans to question 10*"
   ]
  },
  {
   "cell_type": "code",
   "execution_count": 82,
   "id": "fb877107",
   "metadata": {},
   "outputs": [
    {
     "name": "stdout",
     "output_type": "stream",
     "text": [
      "Character frequencies: [1, 0, 0, 0, 0, 0, 0, 2, 1, 0, 1, 0, 0, 0, 0, 0, 0, 0, 2, 0, 0, 0, 0, 0, 0, 0]\n",
      "Character frequencies: [4, 0, 0, 1, 0, 0, 0, 0, 0, 0, 0, 1, 0, 1, 0, 0, 0, 0, 2, 2, 0, 0, 0, 0, 1, 0]\n"
     ]
    }
   ],
   "source": [
    "def frequencies(text):\n",
    "    letters = 'abcdefghijklmnopqrstuvwxyz'\n",
    "    f = [0] * 26\n",
    "    # coverting the text to lower case to avoid further errors while comparing \n",
    "    text = text.lower()\n",
    "    for char in text:\n",
    "        if char in letters:\n",
    "            index = letters.index(char)\n",
    "            f[index] += 1\n",
    "    return f\n",
    "\n",
    "a = \"Kashish\"\n",
    "b = \"Data analysts\"\n",
    "result = frequencies(a)\n",
    "result1 = frequencies(b)\n",
    "\n",
    "print(\"Character frequencies:\", result)\n",
    "print(\"Character frequencies:\", result1)\n"
   ]
  },
  {
   "cell_type": "code",
   "execution_count": null,
   "id": "6d7e5ce5",
   "metadata": {},
   "outputs": [],
   "source": []
  }
 ],
 "metadata": {
  "kernelspec": {
   "display_name": "Python 3 (ipykernel)",
   "language": "python",
   "name": "python3"
  },
  "language_info": {
   "codemirror_mode": {
    "name": "ipython",
    "version": 3
   },
   "file_extension": ".py",
   "mimetype": "text/x-python",
   "name": "python",
   "nbconvert_exporter": "python",
   "pygments_lexer": "ipython3",
   "version": "3.11.1"
  }
 },
 "nbformat": 4,
 "nbformat_minor": 5
}
